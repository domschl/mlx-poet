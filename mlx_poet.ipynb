{
 "cells": [
  {
   "cell_type": "markdown",
   "metadata": {
    "id": "fEXNOWhCEAPk"
   },
   "source": [
    "# MLX-Transformer-Poet"
   ]
  },
  {
   "cell_type": "markdown",
   "metadata": {
    "id": "DabS0VZ-1Zp0"
   },
   "source": [
    "Please review [ml-indie-tools](https://github.com/domschl/ml-indie-tools), a collection machine learning tools that provides support for more environment indepent code. "
   ]
  },
  {
   "cell_type": "code",
   "execution_count": 1,
   "metadata": {
    "id": "gF-7qFzMdnN1",
    "scrolled": true
   },
   "outputs": [
    {
     "name": "stdout",
     "output_type": "stream",
     "text": [
      "Requirement already satisfied: ml-indie-tools in ./lib/python3.12/site-packages (0.12.0)\n"
     ]
    }
   ],
   "source": [
    "!pip install -U ml-indie-tools"
   ]
  },
  {
   "cell_type": "code",
   "execution_count": 23,
   "metadata": {
    "id": "EgLLjG4yQtft"
   },
   "outputs": [],
   "source": [
    "import logging\n",
    "import os\n",
    "import sys\n",
    "import copy\n",
    "import json\n",
    "import time\n",
    "import datetime\n",
    "import random\n",
    "import math\n",
    "import numpy as np\n",
    "from zoneinfo import ZoneInfo\n",
    "\n",
    "from functools import partial\n",
    "import mlx\n",
    "import mlx.core as mx\n",
    "import mlx.core as mx\n",
    "import mlx.nn as nn\n",
    "import mlx.optimizers as optim\n",
    "import numpy as np\n",
    "from mlx.utils import tree_flatten\n",
    "\n",
    "import matplotlib.pyplot as plt\n",
    "%matplotlib inline\n",
    "%config InlineBackend.figure_format='retina'"
   ]
  },
  {
   "cell_type": "code",
   "execution_count": 24,
   "metadata": {
    "id": "U5T4m6earb1e"
   },
   "outputs": [],
   "source": [
    "from ml_indie_tools.env_tools import MLEnv\n",
    "from ml_indie_tools.Gutenberg_Dataset import Gutenberg_Dataset\n",
    "from ml_indie_tools.Text_Dataset import Text_Dataset\n",
    "\n",
    "from ml_indie_tools.Calibre_Dataset import Calibre_Dataset\n",
    "from ml_indie_tools.Folder_Dataset import Folder_Dataset"
   ]
  },
  {
   "cell_type": "code",
   "execution_count": 25,
   "metadata": {
    "id": "jVcwvURB5EZN"
   },
   "outputs": [],
   "source": [
    "logging.basicConfig(level=logging.INFO)\n",
    "log = logging.Logger(\"Main\")\n",
    "log.setLevel(logging.INFO)"
   ]
  },
  {
   "cell_type": "markdown",
   "metadata": {
    "id": "sfZg31sMEAP1"
   },
   "source": [
    "## 0. Environment"
   ]
  },
  {
   "cell_type": "code",
   "execution_count": 26,
   "metadata": {
    "id": "llPw84PkEAP2"
   },
   "outputs": [
    {
     "data": {
      "text/plain": [
       "'OS: Darwin, Python: 3.12.3, Jupyter Notebook MLX: 0.12.0, GPU: MLX GPU (system memory)'"
      ]
     },
     "execution_count": 26,
     "metadata": {},
     "output_type": "execute_result"
    }
   ],
   "source": [
    "cached_batch_data = None   # Do regenerate time-consuming training data, if aleady cached.\n",
    "\n",
    "ml_env = MLEnv(platform='mlx', accelerator='fastest')\n",
    "ml_env.describe()"
   ]
  },
  {
   "cell_type": "markdown",
   "metadata": {
    "id": "7Qg3ZPBmC8kO"
   },
   "source": [
    "## 1. Project configuration"
   ]
  },
  {
   "cell_type": "code",
   "execution_count": 31,
   "metadata": {
    "id": "t-TP3Pnsrb1f"
   },
   "outputs": [
    {
     "name": "stdout",
     "output_type": "stream",
     "text": [
      "Root path (all projects) : . (This will be '.' (current dir) for local projects, and a google drive path for Colab)\n",
      "Project path             : . (Changes to the file system happen only below this project path\n",
      "Model path (snapshots)   : ./model/ng_COMP_neo_philosophers_v2_pt (Model weights and snapshots are stored here)\n",
      "Data path (training data): ./data (Training data will be downloaded here)\n",
      "Log dir (tensorboard)    : ./logs (it doesn't work to put logs on gdrive due to caching, hence local dir)\n"
     ]
    }
   ],
   "source": [
    "project_name = 'neo_philosophers'\n",
    "# project_name='women_writers'\n",
    "model = None\n",
    "optimizer = None\n",
    "model_name=f'ng_COMP_{project_name}_v2_pt'\n",
    "\n",
    "use_preprocessed_data = False                      # Use already tokenized data\n",
    "use_existing_model_from_checkpoint = False        # Try to load checkpoint of training\n",
    "skip_additional_texts = True                      # Don't look for other data sources in `additional_texts.json`\n",
    "# NOTICE: This will request access to Google Drive, if running on Google Colab. Google Drive is used to store snapshots\n",
    "# training data. See project ml-indie-tools: https://github.com/domschl/ml-indie-tools\n",
    "#\n",
    "# Note: you need to allow popups in your browser for COLAB, otherwise you won't see the google-drive login box, and drive access will fail!\n",
    "\n",
    "root_path, project_path, model_path, data_path, log_path = ml_env.init_paths(project_name=project_name, model_name=model_name)\n",
    "\n",
    "print(f\"Root path (all projects) : {root_path} (This will be '.' (current dir) for local projects, and a google drive path for Colab)\")\n",
    "print(f\"Project path             : {project_path} (Changes to the file system happen only below this project path\")\n",
    "print(f\"Model path (snapshots)   : {model_path} (Model weights and snapshots are stored here)\")\n",
    "print(f\"Data path (training data): {data_path} (Training data will be downloaded here)\")\n",
    "print(f\"Log dir (tensorboard)    : {log_path} (it doesn't work to put logs on gdrive due to caching, hence local dir)\")"
   ]
  },
  {
   "cell_type": "markdown",
   "metadata": {
    "id": "AIkcYcEuQtfx"
   },
   "source": [
    "##  2.1 Text data from Project Gutenberg\n",
    "\n",
    "`Text_Dataset` and `Gutenberg_Dataset` classes: libraries for training,\n",
    "encoding, batch generation, and formatted source display. It read some\n",
    "books from Project Gutenberg and supports creation of training batches.\n",
    "The output functions support highlighting to allow to compare generated\n",
    "texts with the actual sources to help to identify identical (memorized)\n",
    "parts."
   ]
  },
  {
   "cell_type": "code",
   "execution_count": 32,
   "metadata": {
    "id": "HjkelBcNO5WV"
   },
   "outputs": [],
   "source": [
    "use_dark_mode=False # Set to false for white background. HTML-text-compare uses background-colorization to identify different sources. Those background colors are dependent on the theme type."
   ]
  },
  {
   "cell_type": "code",
   "execution_count": 33,
   "metadata": {
    "id": "BF8eyWnCrb1h"
   },
   "outputs": [],
   "source": [
    "token_file = os.path.join(data_path,f\"{project_name}_tokens.json\")\n",
    "if use_preprocessed_data is True:\n",
    "    if os.path.exists(token_file):\n",
    "        td = Text_Dataset()\n",
    "        td.load_tokenizer(token_file)\n",
    "    else:\n",
    "        print(f\"Can't use preprocessed data, since {token_file} is missing, preprocessing data...\")\n",
    "        use_preprocessed_data = False"
   ]
  },
  {
   "cell_type": "code",
   "execution_count": 40,
   "metadata": {
    "id": "C66X7ynnrb1h"
   },
   "outputs": [
    {
     "name": "stdout",
     "output_type": "stream",
     "text": [
      "70 matching books found with search {'title': ['Buddh', 'Sutra'], 'language': ['english', 'german']}.\n"
     ]
    },
    {
     "name": "stderr",
     "output_type": "stream",
     "text": [
      "INFO:Datasets:Loaded 70 texts\n"
     ]
    },
    {
     "name": "stdout",
     "output_type": "stream",
     "text": [
      "0: Der Wille zur Macht - Friedrich Nietzsche, 60360\n",
      "1: The History of Philosophy: Volume 3 of 3 - Georg Wilhelm Hegel, 58169\n",
      "2: Die Religion innerhalb der Grenzen der bloßen Vernunft - Immanuel Kant, 56182\n",
      "3: Kant's gesammelte Schriften - Immanuel Kant, 55925\n",
      "4: The Will to Power, Books III and IV - Friedrich Nietzsche, 52915\n",
      "5: The Will to Power, Books I and II - Friedrich Nietzsche, 52914\n",
      "6: The Joyful Wisdom - Friedrich Nietzsche, 52881\n",
      "7: Kant's Prolegomena - Immanuel Kant, 52821\n",
      "8: Hegel's Lectures on the History of Philosophy: Vol. 2 of 3 - Georg Wilhelm Hegel, 51636\n",
      "9: Hegel's Lectures on the History of Philosophy: Vol. 1 of 3 - Georg Wilhelm Hegel, 51635\n",
      "10: Early Greek Philosophy & Other Essays - Friedrich Nietzsche, 51548\n",
      "11: On the Fourfold Root of the Principle of Sufficient Reason and On the Will in Nature: Two Essays (revised edition) - Arthur Schopenhauer, 50966\n",
      "12: Perpetual Peace - Immanuel Kant, 50922\n",
      "13: Kant's gesammelte Schriften - Immanuel Kant, 49543\n",
      "14: Kant's Critique of Judgement - Immanuel Kant, 48433\n",
      "15: Aphorismen zur Lebensweisheit - Arthur Schopenhauer, 47406\n",
      "16: Zum ewigen Frieden - Immanuel Kant, 46873\n",
      "17: The Basis of Morality - Arthur Schopenhauer, 44929\n",
      "18: Beobachtungen ? das Gef?des Sch? und Erhabenen - Immanuel Kant, 41197\n",
      "19: The World as Will and Idea (Vol. 3 of 3) - Arthur Schopenhauer, 40868\n",
      "20: The World as Will and Idea (Vol. 2 of 3) - Arthur Schopenhauer, 40097\n",
      "21: ?er die Vulkane im Monde - Immanuel Kant, 38755\n",
      "22: Was hei?: sich im Denken orientieren? - Immanuel Kant, 38754\n",
      "23: The World as Will and Idea (Vol. 1 of 3) - Arthur Schopenhauer, 38427\n",
      "24: Von der Macht des Gem? by den blo?n Vorsatz seiner krankhaften Gef? Meister zu sein - Immanuel Kant, 38295\n",
      "25: Thoughts Out of Season, Part 2 - Friedrich Nietzsche, 38226\n",
      "26: Human, All Too Human - Friedrich Nietzsche, 38145\n",
      "27: Tr?e eines Geistersehers, erl?ert by Tr?e der Metaphysik - Immanuel Kant, 36076\n",
      "28: Beantwortung der Frage: Was ist Aufkl?ng? - Immanuel Kant, 30821\n",
      "29: We Philologists, Volume 8 of 18 - Friedrich Nietzsche, 18267\n",
      "30: Kritik der reinen Vernunft (2nd Edition) - Immanuel Kant, 6343\n",
      "31: Kritik der reinen Vernunft (1st Edition) - Immanuel Kant, 6342\n",
      "32: The Metaphysical Elements of Ethics - Immanuel Kant, 5684\n",
      "33: The Critique of Practical Reason - Immanuel Kant, 5683\n",
      "34: Fundamental Principles of the Metaphysic of Morals - Immanuel Kant, 5682\n",
      "35: Thoughts out of Season, Part One - Friedrich Nietzsche, 5652\n",
      "36: Beyond Good and Evil - Friedrich Nietzsche, 4363\n",
      "37: The Critique of Pure Reason - Immanuel Kant, 4280\n",
      "38: Thus Spake Zarathustra - Friedrich Nietzsche, 1998\n",
      "39: Essays in Zen Buddhism - Daisetz Teitaro Suzuki, 71157\n",
      "40: The Thousand Buddhas - Aurel Stein, 67358\n",
      "41: Buddhism and Christianity - Archibald Scott, 67171\n",
      "42: The Diamond Sutra, Chin-Kang-Ching, or Prajna-Paramita - Unknown, 64623\n",
      "43: A Record of Buddhistic Kingdoms - Faxian, 64535\n",
      "44: Ruins of Buddhistic Temples in Prågå Valley, Tyandis Båråbudur, Mendut and Pawon - Isaac Groneman, 63057\n",
      "45: Aus dem Reiche des Buddha - Paul Dahlke, 59803\n",
      "46: Gleanings in Buddha-Fields - Lafcadio Hearn, 55681\n",
      "47: Buddhist birth stories; or, Jataka tales, Vol. 1 - V. Fausböll, 51880\n",
      "48: Die Reden Gotamo Buddhos - Karl Eugen Neumann, 49044\n",
      "49: Die Reden Gotamo Buddhos - Karl Eugen Neumann, 48901\n",
      "50: Die Reden Gotamo Buddhos - Karl Eugen Neumann, 48345\n",
      "51: The Influence of Buddhism on Primitive Christianity - Arthur Lillie, 48220\n",
      "52: The Metaphysic of Christianity and Buddhism - Dawsonne M. Strong, 48028\n",
      "53: Korean Buddhism - Frederick Starr, 47957\n",
      "54: Buddhism, In its Connexion With Brahmanism and Hinduism, and In Its Contrast with Christianity - Sir Monier Monier-Williams, 47214\n",
      "55: Buddhism in the Modern World - K. J. Saunders, 44607\n",
      "56: Zen Buddhism - Arthur Waley, 43273\n",
      "57: The Gospel of Buddha - Paul Carus, 35895\n",
      "58: The Buddha's Path of Virtue - Frank Lee Woodward, 35185\n",
      "59: The Buddhist Catechism - Henry S. Olcott, 30216\n",
      "60: The Essence of Buddhism - Various, 18223\n",
      "61: Hinduism and Buddhism, An Historical Sketch, Vol. 3 of 3 - Charles Eliot, 16847\n",
      "62: Hinduism And Buddhism, Vol. 2 of 3 - Charles Eliot, 16546\n",
      "63: The Vedanta-Sutras with the Commentary by Sankaracarya - unknown, 16295\n",
      "64: Hinduism and Buddhism, Vol. 1 of 3 - Charles Eliot, 15255\n",
      "65: Buddhism and Buddhists in China - Lewis Hodous, 8390\n",
      "66: The Vedanta-Sutras with the Commentary by Ramanuja, attributed to Badarayana - unknown, 7297\n",
      "67: Buddhist Psalms - Shinran Shonin, 7015\n",
      "68: The Yoga Sutras of Patanjali by Charles Johnston - unknown, 2526\n",
      "69: Record of Buddhistic Kingdoms - Fa-Hien, 2124\n",
      "Using:\n",
      "1: Der Wille zur Macht - Friedrich Nietzsche\n",
      "2: The History of Philosophy: Volume 3 of 3 - Georg Wilhelm Hegel\n",
      "3: Die Religion innerhalb der Grenzen der bloßen Vernunft - Immanuel Kant\n",
      "4: Kant's gesammelte Schriften - Immanuel Kant\n",
      "5: The Will to Power, Books III and IV - Friedrich Nietzsche\n",
      "6: The Will to Power, Books I and II - Friedrich Nietzsche\n",
      "7: The Joyful Wisdom - Friedrich Nietzsche\n",
      "8: Kant's Prolegomena - Immanuel Kant\n",
      "9: Hegel's Lectures on the History of Philosophy: Vol. 2 of 3 - Georg Wilhelm Hegel\n",
      "10: Hegel's Lectures on the History of Philosophy: Vol. 1 of 3 - Georg Wilhelm Hegel\n",
      "11: Early Greek Philosophy & Other Essays - Friedrich Nietzsche\n",
      "12: On the Fourfold Root of the Principle of Sufficient Reason and On the Will in Nature: Two Essays (revised edition) - Arthur Schopenhauer\n",
      "13: Perpetual Peace - Immanuel Kant\n",
      "14: Kant's gesammelte Schriften - Immanuel Kant\n",
      "15: Kant's Critique of Judgement - Immanuel Kant\n",
      "16: Aphorismen zur Lebensweisheit - Arthur Schopenhauer\n",
      "17: Zum ewigen Frieden - Immanuel Kant\n",
      "18: The Basis of Morality - Arthur Schopenhauer\n",
      "19: Beobachtungen ? das Gef?des Sch? und Erhabenen - Immanuel Kant\n",
      "20: The World as Will and Idea (Vol. 3 of 3) - Arthur Schopenhauer\n",
      "21: The World as Will and Idea (Vol. 2 of 3) - Arthur Schopenhauer\n",
      "22: ?er die Vulkane im Monde - Immanuel Kant\n",
      "23: Was hei?: sich im Denken orientieren? - Immanuel Kant\n",
      "24: The World as Will and Idea (Vol. 1 of 3) - Arthur Schopenhauer\n",
      "25: Von der Macht des Gem? by den blo?n Vorsatz seiner krankhaften Gef? Meister zu sein - Immanuel Kant\n",
      "26: Thoughts Out of Season, Part 2 - Friedrich Nietzsche\n",
      "27: Human, All Too Human - Friedrich Nietzsche\n",
      "28: Tr?e eines Geistersehers, erl?ert by Tr?e der Metaphysik - Immanuel Kant\n",
      "29: Beantwortung der Frage: Was ist Aufkl?ng? - Immanuel Kant\n",
      "30: We Philologists, Volume 8 of 18 - Friedrich Nietzsche\n",
      "31: Kritik der reinen Vernunft (2nd Edition) - Immanuel Kant\n",
      "32: Kritik der reinen Vernunft (1st Edition) - Immanuel Kant\n",
      "33: The Metaphysical Elements of Ethics - Immanuel Kant\n",
      "34: The Critique of Practical Reason - Immanuel Kant\n",
      "35: Fundamental Principles of the Metaphysic of Morals - Immanuel Kant\n",
      "36: Thoughts out of Season, Part One - Friedrich Nietzsche\n",
      "37: Beyond Good and Evil - Friedrich Nietzsche\n",
      "38: The Critique of Pure Reason - Immanuel Kant\n",
      "39: Thus Spake Zarathustra - Friedrich Nietzsche\n",
      "40: Essays in Zen Buddhism - Daisetz Teitaro Suzuki\n",
      "41: The Thousand Buddhas - Aurel Stein\n",
      "42: Buddhism and Christianity - Archibald Scott\n",
      "43: The Diamond Sutra, Chin-Kang-Ching, or Prajna-Paramita - Unknown\n",
      "44: A Record of Buddhistic Kingdoms - Faxian\n",
      "45: Ruins of Buddhistic Temples in Prågå Valley, Tyandis Båråbudur, Mendut and Pawon - Isaac Groneman\n",
      "46: Aus dem Reiche des Buddha - Paul Dahlke\n",
      "47: Gleanings in Buddha-Fields - Lafcadio Hearn\n",
      "48: Buddhist birth stories; or, Jataka tales, Vol. 1 - V. Fausböll\n",
      "49: Die Reden Gotamo Buddhos - Karl Eugen Neumann\n",
      "50: Die Reden Gotamo Buddhos - Karl Eugen Neumann\n",
      "51: Die Reden Gotamo Buddhos - Karl Eugen Neumann\n",
      "52: The Influence of Buddhism on Primitive Christianity - Arthur Lillie\n",
      "53: The Metaphysic of Christianity and Buddhism - Dawsonne M. Strong\n",
      "54: Korean Buddhism - Frederick Starr\n",
      "55: Buddhism, In its Connexion With Brahmanism and Hinduism, and In Its Contrast with Christianity - Sir Monier Monier-Williams\n",
      "56: Buddhism in the Modern World - K. J. Saunders\n",
      "57: Zen Buddhism - Arthur Waley\n",
      "58: The Gospel of Buddha - Paul Carus\n",
      "59: The Buddha's Path of Virtue - Frank Lee Woodward\n",
      "60: The Buddhist Catechism - Henry S. Olcott\n",
      "61: The Essence of Buddhism - Various\n",
      "62: Hinduism and Buddhism, An Historical Sketch, Vol. 3 of 3 - Charles Eliot\n",
      "63: Hinduism And Buddhism, Vol. 2 of 3 - Charles Eliot\n",
      "64: The Vedanta-Sutras with the Commentary by Sankaracarya - unknown\n",
      "65: Hinduism and Buddhism, Vol. 1 of 3 - Charles Eliot\n",
      "66: Buddhism and Buddhists in China - Lewis Hodous\n",
      "67: The Vedanta-Sutras with the Commentary by Ramanuja, attributed to Badarayana - unknown\n",
      "68: Buddhist Psalms - Shinran Shonin\n",
      "69: The Yoga Sutras of Patanjali by Charles Johnston - unknown\n",
      "70: Record of Buddhistic Kingdoms - Fa-Hien\n"
     ]
    }
   ],
   "source": [
    "if use_preprocessed_data is False:\n",
    "    cache_dir = os.path.join(data_path, 'gutenberg_cache')\n",
    "    gd = Gutenberg_Dataset(cache_dir=cache_dir)\n",
    "\n",
    "    if project_name == 'women_writers':  # sample searches\n",
    "        search_spec= {\n",
    "            \"author\": [\"Emily Brontë\", \"Jane Austen\", \"Virginia Woolf\"],\n",
    "            \"language\": [\"english\"]\n",
    "        }\n",
    "        book_list=gd.search(search_spec)\n",
    "    elif project_name == 'neo_philosophers':\n",
    "        search_spec = {\n",
    "            \"author\": [\"Immanuel Kant\", \"Friedrich Nietzsche\", \"Wilhelm Hegel\", \"Arthur Schopenhauer\"],\n",
    "            \"language\": [\"english\", \"german\"]\n",
    "        }\n",
    "        book_list=gd.search(search_spec)\n",
    "        search_spec = {\n",
    "            \"author\": [\"Plato\", \"Platon\"],\n",
    "            \"title\": [\"Timaeus\", \"Critias\", \"Symposium\"],\n",
    "            \"language\": [\"english\", \"german\"]\n",
    "        }\n",
    "        book_list+=gd.search(search_spec)\n",
    "        search_spec = {\n",
    "            \"title\": [\"Buddh\", \"Sutra\"],\n",
    "            \"language\": [\"english\", \"german\"]\n",
    "        }\n",
    "        book_list+=gd.search(search_spec)\n",
    "    else:\n",
    "        search_spec = {}\n",
    "        book_list = []\n",
    "\n",
    "    book_cnt = len(book_list)\n",
    "    print(f\"{book_cnt} matching books found with search {search_spec}.\")\n",
    "\n",
    "    if book_cnt > 0:\n",
    "        if book_cnt<80:\n",
    "            # Note: please verify that book_cnt is 'reasonable'. If you plan to use a large number of texts,\n",
    "            # consider [mirroring Gutenberg](https://github.com/domschl/ml-indie-tools#working-with-a-local-mirror-of-project-gutenberg)\n",
    "            book_list = gd.insert_book_texts(book_list, download_count_limit=book_cnt)\n",
    "        else:\n",
    "            logging.error(\"Please verify your book_list, a large number of books is scheduled for download. ABORTED.\")\n",
    "\n",
    "        for i in range(len(book_list)):\n",
    "            if 'author' not in book_list[i]:\n",
    "                book_list[i]['author']='unknown'\n",
    "            print(f\"{i}: {book_list[i]['title']} - {book_list[i]['author']}, {book_list[i]['ebook_id']}\")\n",
    "\n",
    "        if project_name == 'women_writers':\n",
    "            select = (\"Bennett\", \"1342\", \"5670\", \"1245\", \"161\", \"141\", \"121\", \"105\", \"Susan\", \"Wuthering\", \"Emma\", \"Voyage\")  # List unique single-words from title or ebook_id to select a given book\n",
    "            sub_book_list = [book_list[i] for i in range(len(book_list)) if not set([book_list[i]['ebook_id']]+book_list[i]['title'].split(' ')).isdisjoint(set(select))]\n",
    "        else:\n",
    "            sub_book_list = book_list\n",
    "\n",
    "        print(\"Using:\")\n",
    "        for i in range(len(sub_book_list)):\n",
    "            if 'author' not in sub_book_list[i]:\n",
    "                sub_book_list[i]['author']='unknown'\n",
    "            print(f\"{i+1}: {sub_book_list[i]['title']} - {sub_book_list[i]['author']}\")\n",
    "\n",
    "        td = Text_Dataset(sub_book_list)\n",
    "    else:\n",
    "        td = Text_Dataset()"
   ]
  },
  {
   "cell_type": "markdown",
   "metadata": {
    "id": "dxNIc7gL9UNg"
   },
   "source": [
    "## 2.2 Additional training material from folders or Calibre library\n",
    "\n",
    "This looks for a file `additional_texts.json` in the `project_path` as shown above.\n",
    "\n",
    "```json\n",
    "{\n",
    "  \"local_texts\": [\"/some/directory/that/contains/texts\"],\n",
    "  \"calibre\": \"/home/myuser/Calibre Library\"\n",
    "}\n",
    "```\n",
    "\n",
    "If the folder(s) defined in `local_texts` contain text files with default endings `.txt`, `.md`, `.org`, or `.py` (can be configured), they are added to the training data. Folders are searched recursively.\n",
    "\n",
    "If the path defined in `calibre` contains a Calibre database, all text files (`.txt` only) within that library are added to the training data."
   ]
  },
  {
   "cell_type": "code",
   "execution_count": 41,
   "metadata": {
    "id": "1NYdjlW65EZP"
   },
   "outputs": [],
   "source": [
    "if use_preprocessed_data is False and skip_additional_texts is False:\n",
    "    additional = os.path.join(project_path, \"additional_texts.json\")\n",
    "    print(f\"Looking for description of additional sources in {additional}\")\n",
    "    if os.path.exists(additional) is True:\n",
    "        with open(additional, 'r') as f:\n",
    "            add_desc = json.load(f)\n",
    "            if 'local_texts' in add_desc:\n",
    "                fd = Folder_Dataset()\n",
    "                for text_path in add_desc['local_texts']:\n",
    "                    print(f\"Loading texts from {text_path}\")\n",
    "                    fd.load_index(text_path, use_aliases=False, max_file_size=100000)\n",
    "                td.load_texts(fd.records[:10000])\n",
    "            if 'calibre' in add_desc:\n",
    "                cal_path = add_desc['calibre']\n",
    "                if os.path.exists(cal_path):\n",
    "                    print(f\"Loading text from calibre at {cal_path}\")\n",
    "                    cd = Calibre_Dataset(cal_path)\n",
    "                    cd.load_index(max_file_size=100000000)\n",
    "                    td.load_texts(cd.records[:1000])"
   ]
  },
  {
   "cell_type": "markdown",
   "metadata": {
    "id": "GSm4f9NSC8kQ"
   },
   "source": [
    "## 2.3 Tokenize data"
   ]
  },
  {
   "cell_type": "code",
   "execution_count": 42,
   "metadata": {
    "id": "bsyBjqFyC8kQ"
   },
   "outputs": [
    {
     "name": "stderr",
     "output_type": "stream",
     "text": [
      "INFO:Datasets:Starting tokenizer on 70 texts...\n",
      "INFO:Datasets:Extracting bytegrams of length 1..4 from text_list, selecting 10000 (- 256 for single bytes) most used ngrams.\n",
      "INFO:Datasets:Corpus from byte texts created.\n"
     ]
    },
    {
     "name": "stdout",
     "output_type": "stream",
     "text": [
      "\n",
      "Starting tokenizer with token length from 1..4 with a max of 10000 unique tokens,\n",
      "this can take considerable time...\n",
      "  70 ⦊███████████████████▊⦉ [Record of Buddhistic Kingdoms           ]                  \r"
     ]
    },
    {
     "name": "stderr",
     "output_type": "stream",
     "text": [
      "INFO:Datasets:weights compiled\n",
      "INFO:Datasets:Removed 178 bytegrams of length 1 from bytegrams_list: they shouldn't be there. (XXX)\n",
      "INFO:Datasets:Encoding text corpora\n"
     ]
    },
    {
     "name": "stdout",
     "output_type": "stream",
     "text": [
      "  70 ⦊███████████████████▊⦉ [Record of Buddhistic Kingdoms           ]                  \r"
     ]
    },
    {
     "name": "stderr",
     "output_type": "stream",
     "text": [
      "INFO:Datasets:Encoding text corpora done.\n",
      "INFO:Datasets:Saving tokenizer to ./data/neo_philosophers_tokens.json\n"
     ]
    }
   ],
   "source": [
    "if use_preprocessed_data is False:\n",
    "    MAX_TOKENS = 10000  # This becomes vocab_size\n",
    "    MAX_NGRAM_LEN = 4   # Max length of a token\n",
    "    CHUNK_SIZE = 500000 # Split larger texts in chunks, if not None\n",
    "\n",
    "    print(\"\")\n",
    "    print(f\"Starting tokenizer with token length from 1..{MAX_NGRAM_LEN} with a max of {MAX_TOKENS} unique tokens,\")\n",
    "    print(\"this can take considerable time...\")\n",
    "\n",
    "    # td.init_tokenizer(tokenizer='ngram', max_ngrams=MAX_NGRAM_LEN, max_tokens=MAX_TOKENS) # or 'bytegram'\n",
    "    td.init_tokenizer(tokenizer='bytegram', max_ngrams=MAX_NGRAM_LEN, max_tokens=MAX_TOKENS, chunk_size=CHUNK_SIZE)\n",
    "    td.save_tokenizer(token_file)"
   ]
  },
  {
   "cell_type": "markdown",
   "metadata": {
    "id": "MG03WA_yC8kR"
   },
   "source": [
    "## 3. Model metadata"
   ]
  },
  {
   "cell_type": "code",
   "execution_count": 12,
   "metadata": {
    "id": "UPMwIn2gC8kR"
   },
   "outputs": [],
   "source": [
    "params = None\n",
    "updatable_keys=['learning_rate', 'batch_size', 'current_epoch', 'current_loss',\n",
    "                 'sample_every_n_iterations', 'sample_size', 'save_every_n_iterations', 'max_iterations']\n",
    "attn_layers = 8\n",
    "embs = 256\n",
    "seq_len = 256\n",
    "\n",
    "params = { # Multi-head self-attention\n",
    "        'meta_name_template': '{mhsa_layers}x{heads}x{units}x{vocab_size}',\n",
    "\n",
    "        'layers': attn_layers,\n",
    "        'heads': 8,\n",
    "        # 'causal': True,  # Use causal self-attention\n",
    "        # 'dropout': 0.1,\n",
    "        'vocab_size': td.get_unique_token_count(),\n",
    "        'sequence_len': seq_len,\n",
    "        'embedding_size': embs,\n",
    "        'test_iterations': 20,  # number of epocs for loss estimation\n",
    "        'checkpoint': True,  # MLX gradient checkpointing\n",
    "        'context_sub_layers': attn_layers // 2,\n",
    "        'recurrent_context': True,\n",
    "\n",
    "        'joint_state_training': 0,\n",
    "        'batch_size': 64,\n",
    "        'learning_rate': 1e-3,\n",
    "        'weight_decay': 1e-5,\n",
    "        'lr_warmup': 100,  # num iterations for lr warmup\n",
    "\n",
    "        'sample_every_n_iterations': 1024,\n",
    "        # 'sample_size': 150,\n",
    "        # 'save_every_n_iterations': 1024,\n",
    "\n",
    "        'max_iterations': 10000000  # maximum number of training iterations\n",
    "    }"
   ]
  },
  {
   "cell_type": "markdown",
   "metadata": {
    "id": "5U1R4yDlC8kR"
   },
   "source": [
    "## 4. Batch handling"
   ]
  },
  {
   "cell_type": "code",
   "execution_count": 13,
   "metadata": {
    "id": "f7_tc2Lirb1i"
   },
   "outputs": [
    {
     "name": "stdout",
     "output_type": "stream",
     "text": [
      "8369278 records\n"
     ]
    }
   ],
   "source": [
    "td.init_getitem(sample_type='encoded', sample_length=params['sequence_len']+1, content_stepping=1)\n",
    "num_records = len(td)\n",
    "print(f\"{num_records} records\")"
   ]
  },
  {
   "cell_type": "code",
   "execution_count": 14,
   "metadata": {},
   "outputs": [],
   "source": [
    "def progress_bar_string(progress, max_progress, bar_length=20):\n",
    "    progress_frac = progress / max_progress\n",
    "    num_blocks = int(bar_length * progress_frac)\n",
    "    rem = bar_length * progress_frac - num_blocks\n",
    "    blocks = ' ▏▎▍▌▋▊▉█' \n",
    "    remainder_index = int(rem * len(blocks))\n",
    "    bar = blocks[-1] * num_blocks\n",
    "    if remainder_index > 0:\n",
    "        bar += blocks[remainder_index]\n",
    "    bar += ' ' * (bar_length - len(bar))\n",
    "    return bar"
   ]
  },
  {
   "cell_type": "code",
   "execution_count": 15,
   "metadata": {
    "id": "zZbbsNm0cOeW"
   },
   "outputs": [],
   "source": [
    "def get_sample_sub_batch(sample_batch, batch_size, sub_index=0):\n",
    "    for i in range(batch_size):\n",
    "        Xi = sample_batch[sub_index:-1-params['joint_state_training']+sub_index]\n",
    "        if params['joint_state_training']+sub_index == 0:\n",
    "            yi = sample_batch[sub_index+1:]\n",
    "        else:\n",
    "            yi = sample_batch[sub_index+1:-params['joint_state_training']+sub_index]\n",
    "        if i==0:\n",
    "            # smpX=np.array(Xi, dtype=np.float32)\n",
    "            smpX=np.array(Xi, dtype=np.uint32)\n",
    "            smpy=np.array(yi, dtype=np.uint32)\n",
    "        else:\n",
    "            # smpX = np.vstack((smpX, np.array(Xi, dtype=np.float32)))\n",
    "            smpX = np.vstack((smpX, np.array(Xi, dtype=np.uint32)))\n",
    "            smpy = np.vstack((smpy, np.array(yi, dtype=np.uint32)))\n",
    "    return np.array(smpX, dtype=np.uint32), np.array(smpy, dtype=np.uint32)\n",
    "\n",
    "def get_sample_batch(td, batch_size):\n",
    "    sample_batch = td.get_random_item()\n",
    "    return get_sample_sub_batch(sample_batch, batch_size)"
   ]
  },
  {
   "cell_type": "code",
   "execution_count": 16,
   "metadata": {
    "id": "jY3hUuhQYzdT"
   },
   "outputs": [
    {
     "name": "stdout",
     "output_type": "stream",
     "text": [
      "num_batches = 130769\n"
     ]
    }
   ],
   "source": [
    "num_batches = num_records // params['batch_size']\n",
    "print(f\"num_batches = {num_batches}\")"
   ]
  },
  {
   "cell_type": "code",
   "execution_count": 17,
   "metadata": {
    "id": "ADm9ycuA2ik7"
   },
   "outputs": [],
   "source": [
    "# Adapted from: https://raw.githubusercontent.com/ml-explore/mlx-examples/main/transformer_lm/main.py\n",
    "class TransformerLM(nn.Module):\n",
    "    def __init__(\n",
    "        self,\n",
    "        vocab_size: int,\n",
    "        num_layers: int,\n",
    "        dims: int,\n",
    "        num_heads: int,\n",
    "        checkpoint: bool,\n",
    "        context_sub_layers: int,\n",
    "        recurrent_context: bool,\n",
    "        sequence_length: int,\n",
    "    ):\n",
    "        super().__init__()\n",
    "        self.recurrent_context = recurrent_context\n",
    "        self.sequence_length = sequence_length\n",
    "        self.embed = nn.Embedding(vocab_size, dims)\n",
    "        self.pe = nn.SinusoidalPositionalEncoding(dims)\n",
    "        if context_sub_layers == -1 or context_sub_layers == 0:\n",
    "            context_sub_layers = num_layers // 2;\n",
    "            \n",
    "        self.transformer = nn.TransformerEncoder(\n",
    "            context_sub_layers, dims, num_heads, norm_first=True, checkpoint=checkpoint\n",
    "        )\n",
    "        self.transformer2 = nn.TransformerEncoder(\n",
    "            num_layers - context_sub_layers, dims, num_heads, norm_first=True, checkpoint=checkpoint\n",
    "        )\n",
    "        self.rnn1 = nn.RNN(dims, dims) \n",
    "        self.rnn2 = nn.RNN(dims, dims)\n",
    "        self.rnn3 = nn.RNN(dims, dims)\n",
    "        self.rnn4 = nn.RNN(dims, dims)\n",
    "        self.rk = nn.Linear(dims, dims)\n",
    "        self.rv = nn.Linear(dims, dims)\n",
    "        self.rq = nn.Linear(dims, dims)\n",
    "        # self.lstm3 = nn.LSTM(dims, dims)\n",
    "        # self.lstm4 = nn.LSTM(dims, dims)\n",
    "        self.lnorm = nn.LayerNorm(dims)\n",
    "        self.proj1 = nn.Linear(dims, dims)\n",
    "        # self.proj2 = nn.Linear(dims, dims*sequence_length)\n",
    "        self.out_proj = nn.Linear(dims, vocab_size)\n",
    "        self.context_sub_layers = context_sub_layers\n",
    "\n",
    "\n",
    "    def __call__(self, x):\n",
    "        L = x.shape[1]\n",
    "        mask = nn.MultiHeadAttention.create_additive_causal_mask(L)\n",
    "        x = self.embed(x)\n",
    "        x = x + self.pe(mx.arange(L))\n",
    "        x = self.transformer(x, mask)\n",
    "        skip=x\n",
    "\n",
    "        # Add some kind of persistent state using recurrence layers -----\n",
    "        i_shape = x.shape        \n",
    "        x = self.rnn1(x) + x\n",
    "        x = self.rnn2(x) + x\n",
    "        x = self.rnn3(x) + x\n",
    "        x = self.rnn4(x) + x\n",
    "        # Use attention with last transformer output as query on the 'memory'\n",
    "        xk = self.rk(x)\n",
    "        xv = self.rv(x)\n",
    "        xq = self.rq(skip)\n",
    "        att = mx.matmul(nn.softmax(mx.matmul(xq, xk.transpose(0,2,1))/math.sqrt(L)), xv)\n",
    "        x = self.lnorm(att)\n",
    "        x = nn.softmax(self.proj1(x))\n",
    "        # Merge 'memory' with residual:\n",
    "        \n",
    "        x = x + skip\n",
    "        x = self.transformer2(x, mask)\n",
    "        return self.out_proj(x)\n",
    "\n",
    "    def embedding(self, x):\n",
    "        x = self.embed(x)\n",
    "\n",
    "    def context(self, x):\n",
    "        L = x.shape[1]\n",
    "        mask = nn.MultiHeadAttention.create_additive_causal_mask(L)\n",
    "        x = self.embedding(x)\n",
    "        x = x + self.pe(mx.arange(L))\n",
    "        x = self.transformer(x, mask)\n",
    "        return x\n",
    "        "
   ]
  },
  {
   "cell_type": "code",
   "execution_count": 18,
   "metadata": {},
   "outputs": [],
   "source": [
    "def iterate_batches(batch_size, context_size, dataset):\n",
    "    while True:\n",
    "        x,y = get_sample_batch(dataset, batch_size)\n",
    "        yield x,y"
   ]
  },
  {
   "cell_type": "code",
   "execution_count": 19,
   "metadata": {},
   "outputs": [],
   "source": [
    "def generate(model, idx, max_new_tokens=128, temperature=1.0, multinomial_trials=20): # , top_k=None):\n",
    "        \"\"\"Generate new tokens given a context\n",
    "        :param idx: the context (B,T) tensor of indices\n",
    "        :param max_new_tokens: the maximum number of tokens to generate\n",
    "        :param temperature: the temperature to use for sampling\n",
    "        \"\"\"\n",
    "        # idx is (B, T) array of indices in the current context\n",
    "        for i in range(max_new_tokens):\n",
    "            # crop idx to the last sequence_len tokens\n",
    "            idx = idx[:, -params['sequence_len'] :]\n",
    "            idx_mx = mx.array(idx)\n",
    "            logits = model(idx_mx)\n",
    "            # focus only on the last time step\n",
    "            logits = logits[:, -1, :]  # becomes (B, C)\n",
    "            # apply temperature\n",
    "            if temperature != 1.0 and temperature > 0.0:\n",
    "                logits = logits / temperature\n",
    "            # apply softmax to get probabilities\n",
    "            probs = mx.softmax(logits, axis=1)  # XXX Check, if MLX understands -1\n",
    "\n",
    "            # Workaround for strange Numpy casting effects that cause sum(probs)>1:\n",
    "            probs = np.array(probs).astype('float64')\n",
    "            probs = probs / np.sum(probs)\n",
    "            idx_next = np.random.multinomial(multinomial_trials, probs[0]).argmax()\n",
    "            idx = np.concatenate((idx, [[idx_next]]), axis=1) \n",
    "        return idx"
   ]
  },
  {
   "cell_type": "code",
   "execution_count": 20,
   "metadata": {},
   "outputs": [],
   "source": [
    "def encode_prompt(model, td, prompt, pad=False):\n",
    "    if pad is True:\n",
    "        while len(prompt)<params['sequence_len']*5:  # XXX bad hack: after encoding, idx must be >= sequence_len, or generate fails\n",
    "            if len(prompt)==params['sequence_len']*5-1:\n",
    "                prompt = '\\n' + prompt\n",
    "            else:\n",
    "                prompt = ' ' + prompt\n",
    "    idx = np.array([td.encode(prompt)], dtype=np.uint32)\n",
    "    return idx\n",
    "    \n",
    "\n",
    "def generate_sample(model, td, prompt=' ', toks=128, state=None, temperature=1.0, pad=True, multinomial_trials=32):\n",
    "    idx = encode_prompt(model, td, prompt, pad)\n",
    "    answer = generate(model, idx, max_new_tokens=toks, temperature=temperature, multinomial_trials=multinomial_trials)\n",
    "    txt = td.decode(answer[0].tolist())\n",
    "    td.source_highlight(txt, min_quote_size=10, dark_mode=False, display_ref_anchor=False)\n",
    "    return txt"
   ]
  },
  {
   "cell_type": "code",
   "execution_count": 21,
   "metadata": {
    "id": "ADm9ycuA2ik7"
   },
   "outputs": [],
   "source": [
    "def train(reset_model = False):\n",
    "    global model\n",
    "    global optimizer\n",
    "    batch_size = params['batch_size']\n",
    "    context_size = params['sequence_len']\n",
    "    steps_per_eval = params['test_iterations']\n",
    "    steps_per_report = params['sample_every_n_iterations']\n",
    "    loss_history_x = np.array([])\n",
    "    loss_history_y = np.array([])\n",
    "    max_loss_hist=1000\n",
    "    loss_history_interval = 25\n",
    "\n",
    "    # Initialize model:\n",
    "    if model is None or reset_model is True:\n",
    "        model = TransformerLM(\n",
    "            params['vocab_size'], params['layers'], params['embedding_size'], params['heads'], \n",
    "            params['checkpoint'], context_sub_layers=params['context_sub_layers'], recurrent_context=params['recurrent_context'],\n",
    "            sequence_length=params['sequence_len']\n",
    "        )\n",
    "        print(\"Created new model\")\n",
    "    else:\n",
    "        print(\"Reusing existing model, continuing training\")\n",
    "        \n",
    "    mx.eval(model.parameters())\n",
    "    nparams = sum(\n",
    "        x.size for k, x in tree_flatten(model.parameters()) if \"embedding\" not in k\n",
    "    )\n",
    "    print(f\"Training a transformer with {nparams / 1024**2:.3f} M parameters\")\n",
    "\n",
    "    def loss_fn(model, x, y, reduce=True):\n",
    "        # print(f\"loss-input-shape: {x.shape}, {x.dtype}\")\n",
    "        logits = model(x)\n",
    "        losses = nn.losses.cross_entropy(logits, y)\n",
    "        return mx.mean(losses) if reduce else mx.mean(losses, axis=(-1, -2))\n",
    "\n",
    "    if optimizer is None or reset_model is True:\n",
    "        optimizer = optim.AdamW(\n",
    "            learning_rate=params['learning_rate'], weight_decay=params['weight_decay']\n",
    "        )\n",
    "\n",
    "    # def eval_fn(dataset):\n",
    "    #     inputs, targets = map(mx.array, to_samples(context_size, dataset))\n",
    "    #     loss = 0\n",
    "    #     for s in range(0, targets.shape[0], batch_size):\n",
    "    #         bx, by = inputs[s : s + batch_size], targets[s : s + batch_size]\n",
    "    #         bx, by = map(mx.array, (bx, by))\n",
    "    #         losses = loss_fn(model, bx, by, reduce=False)\n",
    "    #         loss += mx.sum(losses).item()\n",
    "    #     return loss / len(targets)\n",
    "\n",
    "    state = [model.state, optimizer.state]\n",
    "\n",
    "    # compile disabled until https://github.com/ml-explore/mlx/issues/1063 is fixed. (or recurrent layer is removed)\n",
    "    # @partial(mx.compile, inputs=state, outputs=state)\n",
    "    def step(inputs, targets):\n",
    "        loss_and_grad_fn = nn.value_and_grad(model, loss_fn)\n",
    "        loss, grads = loss_and_grad_fn(model, inputs, targets)\n",
    "        optimizer.update(model, grads)\n",
    "        return loss\n",
    "\n",
    "    train_iterator = iterate_batches(batch_size, context_size, td)\n",
    "    losses = np.array([])\n",
    "    tic = time.perf_counter()\n",
    "    for it, (inputs, targets) in zip(range(params['max_iterations']), train_iterator):\n",
    "        inputs, targets = map(mx.array, (inputs, targets))\n",
    "        optimizer.learning_rate = min(1, it / params['lr_warmup']) * params['learning_rate']\n",
    "        loss = step(inputs, targets)\n",
    "        mx.eval(state)\n",
    "        losses = np.append(losses, ([loss.item()]))\n",
    "        if (it+1) % loss_history_interval == 0:\n",
    "            loss_history_x = np.append(loss_history_x, ([it]))[-max_loss_hist:]\n",
    "            loss_history_y = np.append(loss_history_y, ([np.mean(losses[-loss_history_interval:])]))[-max_loss_hist:]\n",
    "        pbar = progress_bar_string(it%steps_per_report, steps_per_report, 20)\n",
    "        print(f\"{it:6d} ⦊{pbar}⦉ loss: {np.mean(losses):.4f}    \", end=\"\\r\")\n",
    "        if (it + 1) % steps_per_report == 0:\n",
    "            train_loss = np.mean(losses)\n",
    "            toc = time.perf_counter()\n",
    "            print(\n",
    "                f\"Iter {it + 1}: Train loss {train_loss:.3f}, \"\n",
    "                f\"It/sec {steps_per_report / (toc - tic):.3f}\"\n",
    "            )\n",
    "            # print(\"Gen: \")\n",
    "            txt = generate_sample(model, td, prompt=\"At the beginning of time, the nature of reality was \", temperature=0.75)\n",
    "            fig = plt.figure(figsize=(5, 2))\n",
    "            plt.plot(loss_history_x, loss_history_y)\n",
    "            plt.show()\n",
    "            \n",
    "            # print(f\"Res: {txt}\")\n",
    "            losses = []\n",
    "            tic = time.perf_counter()\n",
    "        # if (it + 1) % steps_per_eval == 0:\n",
    "        #     val_loss = eval_fn(valid)\n",
    "        #     toc = time.perf_counter()\n",
    "        #     print(\n",
    "        #         f\"Iter {it + 1}: \"\n",
    "        #         f\"Val loss {val_loss:.3f}, \"\n",
    "        #         f\"Val ppl {math.exp(val_loss):.3f}, \"\n",
    "        #         f\"Val took {(toc - tic):.3f}s, \"\n",
    "        #     )\n",
    "            tic = time.perf_counter()\n",
    "\n",
    "    # if args.eval_test:\n",
    "    #     test_loss = eval_fn(test)\n",
    "    #     test_ppl = math.exp(test_loss)\n",
    "    #     print(f\"Test loss {test_loss:.3f}, Test ppl {test_ppl:.3f}.\")"
   ]
  },
  {
   "cell_type": "code",
   "execution_count": 22,
   "metadata": {},
   "outputs": [
    {
     "name": "stdout",
     "output_type": "stream",
     "text": [
      "Created new model\n",
      "Training a transformer with 11.663 M parameters\n",
      "Iter 1024: Train loss 6.855, It/sec 1.4856    \n"
     ]
    },
    {
     "data": {
      "text/html": [
       "<span style=\"background-color:#eadbd8;\">                                                                             </span><span style=\"background-color:#eadbd8;\">                                                                             </span><span style=\"background-color:#eadbd8;\">                                                                             </span><span style=\"background-color:#edebd0;\">                                          A</span><span style=\"background-color:#ebdef0;\">t the beginning of t</span><span style=\"background-color:#d6eaf8;\">ime, the n</span><span style=\"background-color:#ebdef0;\">ature of real</span>ity was  the a the the  the asothe lor n)tn<br>the ni73the i4<span style=\"background-color:#edebd0;\">     the othe</span> <span style=\"background-color:#edebd0;\">i, and the </span>anl, the <span style=\"background-color:#d4e6f1;\">n and whic</span> the n2c<br>the nn tho the a the the a the the  the oERo<span style=\"background-color:#ebdef0;\">ation the a</span>. and <span style=\"background-color:#ebdef0;\">ition the </span>nBn-i.<span style=\"background-color:#ebdef0;\">tion and n</span>Na the the n the i the the <span style=\"background-color:#ecf3cf;\">ntion the </span> #t th<span style=\"background-color:#f6ddcc;\">     the n</span>7a the the <span style=\"background-color:#d4efdf;\">ation the i</span>"
      ],
      "text/plain": [
       "<IPython.core.display.HTML object>"
      ]
     },
     "metadata": {},
     "output_type": "display_data"
    },
    {
     "data": {
      "text/html": [
       "<small><p style=\"text-align:right;\">Sources: <span style=\"background-color:#eadbd8;\">Immanuel Kant: Die Religion innerhalb der Grenzen der bloßen Vernunft</span>, <span style=\"background-color:#edebd0;\">Friedrich Nietzsche: The Will to Power, Books III and IV</span>, <span style=\"background-color:#ebdef0;\">Georg Wilhelm Hegel: The History of Philosophy: Volume 3 of 3</span>, <span style=\"background-color:#d6eaf8;\">Georg Wilhelm Hegel: Hegel's Lectures on the History of Philosophy: Vol. 2 of 3</span>, <span style=\"background-color:#edebd0;\">Arthur Schopenhauer: The World as Will and Idea (Vol. 2 of 3)</span>, <span style=\"background-color:#d4e6f1;\">Georg Wilhelm Hegel: Hegel's Lectures on the History of Philosophy: Vol. 1 of 3</span>, <span style=\"background-color:#ecf3cf;\">Friedrich Nietzsche: The Will to Power, Books I and II</span>, <span style=\"background-color:#f6ddcc;\">Arthur Schopenhauer: On the Fourfold Root of the Principle of Sufficient Reason and On the Will in Nature: Two Essays (revised edition)</span>, <span style=\"background-color:#d4efdf;\">Friedrich Nietzsche: The Joyful Wisdom</span></p></small>"
      ],
      "text/plain": [
       "<IPython.core.display.HTML object>"
      ]
     },
     "metadata": {},
     "output_type": "display_data"
    },
    {
     "data": {
      "image/png": "[encoded data removed]",
      "text/plain": [
       "<Figure size 500x200 with 1 Axes>"
      ]
     },
     "metadata": {
      "image/png": {
       "height": 197,
       "width": 439
      }
     },
     "output_type": "display_data"
    },
    {
     "name": "stdout",
     "output_type": "stream",
     "text": [
      "Iter 2048: Train loss 6.364, It/sec 1.4880    \n"
     ]
    },
    {
     "data": {
      "text/html": [
       "<span style=\"background-color:#eadbd8;\">                                                                             </span><span style=\"background-color:#eadbd8;\">                                                                             </span><span style=\"background-color:#eadbd8;\">                                                                             </span><span style=\"background-color:#edebd0;\">                                          A</span><span style=\"background-color:#ebdef0;\">t the beginning of t</span><span style=\"background-color:#d6eaf8;\">ime, the n</span><span style=\"background-color:#ebdef0;\">ature of real</span>ity was c the and <span style=\"background-color:#edebd0;\">ition the a</span><span style=\"background-color:#d4efdf;\">tion the i</span><span style=\"background-color:#ebdef0;\">tion the a</span><span style=\"background-color:#ebdef0;\">tion      </span>t<span style=\"background-color:#edebd0;\">he is that</span>ion the <span style=\"background-color:#ebdef0;\">ation the a</span><span style=\"background-color:#ebdef0;\">tion the c</span><span style=\"background-color:#ecf3cf;\">tion the g</span> the the <span style=\"background-color:#ebdef0;\">ption of t</span> the <span style=\"background-color:#ecf3cf;\">g and the i</span><span style=\"background-color:#ecf3cf;\">tion the g</span><span style=\"background-color:#edebd0;\"> and the at</span>ion the<span style=\"background-color:#ecf3cf;\"> at of the </span><span style=\"background-color:#ebdef0;\">ation the p</span><span style=\"background-color:#ecf3cf;\">tion the g</span> the the <span style=\"background-color:#d4e6f1;\">ction      </span>the l the the c the the <span style=\"background-color:#d4efdf;\">ation the i</span><span style=\"background-color:#d4efdf;\">tion the i</span><span style=\"background-color:#ebdef0;\">tion the a</span>tion of t the <span style=\"background-color:#d0ece7;\">ation and it</span>ion the <span style=\"background-color:#ebdef0;\">ation the a</span> "
      ],
      "text/plain": [
       "<IPython.core.display.HTML object>"
      ]
     },
     "metadata": {},
     "output_type": "display_data"
    },
    {
     "data": {
      "text/html": [
       "<small><p style=\"text-align:right;\">Sources: <span style=\"background-color:#eadbd8;\">Immanuel Kant: Die Religion innerhalb der Grenzen der bloßen Vernunft</span>, <span style=\"background-color:#edebd0;\">Friedrich Nietzsche: The Will to Power, Books III and IV</span>, <span style=\"background-color:#ebdef0;\">Georg Wilhelm Hegel: The History of Philosophy: Volume 3 of 3</span>, <span style=\"background-color:#d6eaf8;\">Georg Wilhelm Hegel: Hegel's Lectures on the History of Philosophy: Vol. 2 of 3</span>, <span style=\"background-color:#d4efdf;\">Friedrich Nietzsche: The Joyful Wisdom</span>, <span style=\"background-color:#ecf3cf;\">Friedrich Nietzsche: The Will to Power, Books I and II</span>, <span style=\"background-color:#ecf3cf;\">Immanuel Kant: The Critique of Pure Reason</span>, <span style=\"background-color:#d4e6f1;\">Georg Wilhelm Hegel: Hegel's Lectures on the History of Philosophy: Vol. 1 of 3</span>, <span style=\"background-color:#d0ece7;\">Immanuel Kant: Kant's Prolegomena</span></p></small>"
      ],
      "text/plain": [
       "<IPython.core.display.HTML object>"
      ]
     },
     "metadata": {},
     "output_type": "display_data"
    },
    {
     "data": {
      "image/png": "[encoded data removed]",
      "text/plain": [
       "<Figure size 500x200 with 1 Axes>"
      ]
     },
     "metadata": {
      "image/png": {
       "height": 197,
       "width": 439
      }
     },
     "output_type": "display_data"
    },
    {
     "name": "stdout",
     "output_type": "stream",
     "text": [
      "  2191 ⦊██▉                 ⦉ loss: 6.1706    \r"
     ]
    },
    {
     "ename": "KeyboardInterrupt",
     "evalue": "",
     "output_type": "error",
     "traceback": [
      "\u001b[0;31m---------------------------------------------------------------------------\u001b[0m",
      "\u001b[0;31mKeyboardInterrupt\u001b[0m                         Traceback (most recent call last)",
      "Cell \u001b[0;32mIn[22], line 1\u001b[0m\n\u001b[0;32m----> 1\u001b[0m \u001b[43mtrain\u001b[49m\u001b[43m(\u001b[49m\u001b[43mreset_model\u001b[49m\u001b[43m \u001b[49m\u001b[38;5;241;43m=\u001b[39;49m\u001b[43m \u001b[49m\u001b[38;5;28;43;01mFalse\u001b[39;49;00m\u001b[43m)\u001b[49m\n",
      "Cell \u001b[0;32mIn[21], line 68\u001b[0m, in \u001b[0;36mtrain\u001b[0;34m(reset_model)\u001b[0m\n\u001b[1;32m     66\u001b[0m optimizer\u001b[38;5;241m.\u001b[39mlearning_rate \u001b[38;5;241m=\u001b[39m \u001b[38;5;28mmin\u001b[39m(\u001b[38;5;241m1\u001b[39m, it \u001b[38;5;241m/\u001b[39m params[\u001b[38;5;124m'\u001b[39m\u001b[38;5;124mlr_warmup\u001b[39m\u001b[38;5;124m'\u001b[39m]) \u001b[38;5;241m*\u001b[39m params[\u001b[38;5;124m'\u001b[39m\u001b[38;5;124mlearning_rate\u001b[39m\u001b[38;5;124m'\u001b[39m]\n\u001b[1;32m     67\u001b[0m loss \u001b[38;5;241m=\u001b[39m step(inputs, targets)\n\u001b[0;32m---> 68\u001b[0m \u001b[43mmx\u001b[49m\u001b[38;5;241;43m.\u001b[39;49m\u001b[43meval\u001b[49m\u001b[43m(\u001b[49m\u001b[43mstate\u001b[49m\u001b[43m)\u001b[49m\n\u001b[1;32m     69\u001b[0m losses \u001b[38;5;241m=\u001b[39m np\u001b[38;5;241m.\u001b[39mappend(losses, ([loss\u001b[38;5;241m.\u001b[39mitem()]))\n\u001b[1;32m     70\u001b[0m \u001b[38;5;28;01mif\u001b[39;00m (it\u001b[38;5;241m+\u001b[39m\u001b[38;5;241m1\u001b[39m) \u001b[38;5;241m%\u001b[39m loss_history_interval \u001b[38;5;241m==\u001b[39m \u001b[38;5;241m0\u001b[39m:\n",
      "\u001b[0;31mKeyboardInterrupt\u001b[0m: "
     ]
    }
   ],
   "source": [
    "train(reset_model = False)"
   ]
  },
  {
   "cell_type": "code",
   "execution_count": null,
   "metadata": {
    "scrolled": true
   },
   "outputs": [],
   "source": [
    "txt = generate_sample(model, td, prompt=\"At the beginning of time \", pad=True, temperature=0.7)\n",
    "print(f\"Res: {txt}\")"
   ]
  },
  {
   "cell_type": "code",
   "execution_count": null,
   "metadata": {},
   "outputs": [],
   "source": []
  }
 ],
 "metadata": {
  "@webio": {
   "lastCommId": "ec3a4d2d-8063-4bfd-a4a2-ee070d3272f7",
   "lastKernelId": "1acc2b74-f51e-477b-910a-a5519dad53b9"
  },
  "accelerator": "GPU",
  "colab": {
   "collapsed_sections": [
    "VmWbteSFQtfq",
    "yWE_ZZMKEARV"
   ],
   "gpuClass": "premium",
   "gpuType": "V100",
   "include_colab_link": true,
   "machine_shape": "hm",
   "name": "torch_transformer_poet.ipynb",
   "provenance": []
  },
  "kernelspec": {
   "display_name": "Python 3 (ipykernel)",
   "language": "python",
   "name": "python3"
  },
  "language_info": {
   "codemirror_mode": {
    "name": "ipython",
    "version": 3
   },
   "file_extension": ".py",
   "mimetype": "text/x-python",
   "name": "python",
   "nbconvert_exporter": "python",
   "pygments_lexer": "ipython3",
   "version": "3.12.3"
  }
 },
 "nbformat": 4,
 "nbformat_minor": 4
}
