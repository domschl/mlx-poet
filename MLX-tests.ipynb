{
 "cells": [
  {
   "cell_type": "code",
   "execution_count": 1,
   "id": "6f8af73d-ffd3-4a4c-a5be-88999afa3ff5",
   "metadata": {},
   "outputs": [],
   "source": [
    "import mlx\n",
    "import mlx.core as mx\n",
    "\n",
    "from ml_indie_tools.env_tools import MLEnv"
   ]
  },
  {
   "cell_type": "code",
   "execution_count": 2,
   "id": "f282074d-936b-4692-b539-371b5fdc260d",
   "metadata": {},
   "outputs": [],
   "source": [
    "ml = MLEnv(platform='mlx')"
   ]
  },
  {
   "cell_type": "code",
   "execution_count": 3,
   "id": "e0afb2d3-ef56-438b-b592-cc5824d84081",
   "metadata": {},
   "outputs": [
    {
     "data": {
      "text/plain": [
       "'OS: Darwin, Python: 3.12.3, Jupyter Notebook MLX: 0.12.0, GPU: MLX GPU (system memory)'"
      ]
     },
     "execution_count": 3,
     "metadata": {},
     "output_type": "execute_result"
    }
   ],
   "source": [
    "ml.describe()"
   ]
  },
  {
   "cell_type": "code",
   "execution_count": null,
   "id": "04ce75d4-b5e9-45ee-95a6-3b07832ad240",
   "metadata": {},
   "outputs": [],
   "source": []
  }
 ],
 "metadata": {
  "kernelspec": {
   "display_name": "Python 3 (ipykernel)",
   "language": "python",
   "name": "python3"
  },
  "language_info": {
   "codemirror_mode": {
    "name": "ipython",
    "version": 3
   },
   "file_extension": ".py",
   "mimetype": "text/x-python",
   "name": "python",
   "nbconvert_exporter": "python",
   "pygments_lexer": "ipython3",
   "version": "3.12.3"
  }
 },
 "nbformat": 4,
 "nbformat_minor": 5
}
